{
 "cells": [
  {
   "cell_type": "code",
   "execution_count": 253,
   "metadata": {},
   "outputs": [],
   "source": [
    "# importing the neceessary packages\n",
    "import pandas as pd\n",
    "pd.set_option('display.max_columns', 300)\n",
    "import numpy as np\n",
    "import matplotlib \n",
    "import matplotlib.pyplot as plt\n",
    "%matplotlib inline\n",
    "import seaborn as sns\n",
    "import scipy as sp\n",
    "from scipy.stats import pearsonr, f_oneway\n",
    "import statsmodels.api as sm\n",
    "from statsmodels.formula.api import ols\n",
    "from statsmodels.stats.outliers_influence import variance_inflation_factor\n",
    "from sklearn import metrics, linear_model\n",
    "from sklearn.metrics import mean_squared_error\n",
    "from sklearn.model_selection import train_test_split\n",
    "from sklearn.dummy import DummyRegressor\n",
    "from sklearn.linear_model import LinearRegression\n",
    "import pickle"
   ]
  },
  {
   "cell_type": "markdown",
   "metadata": {},
   "source": [
    "## Step 1: Read in hold out data and best model"
   ]
  },
  {
   "cell_type": "code",
   "execution_count": 254,
   "metadata": {},
   "outputs": [
    {
     "output_type": "execute_result",
     "data": {
      "text/plain": [
       "           id             date  bedrooms  bathrooms  sqft_living  sqft_lot  \\\n",
       "0  1974300020  20140827T000000         4       2.50         2270     11500   \n",
       "1  1974300020  20150218T000000         4       2.50         2270     11500   \n",
       "2  3630020380  20141107T000000         3       2.50         1470      1779   \n",
       "3  1771000290  20141203T000000         3       1.75         1280     16200   \n",
       "4  5126310470  20150115T000000         4       2.75         2830      8126   \n",
       "\n",
       "   floors  waterfront  view  condition  grade  sqft_above  sqft_basement  \\\n",
       "0     1.0           0     0          3      8        1540            730   \n",
       "1     1.0           0     0          3      8        1540            730   \n",
       "2     2.0           0     0          3      8        1160            310   \n",
       "3     1.0           0     0          3      8        1030            250   \n",
       "4     2.0           0     0          3      8        2830              0   \n",
       "\n",
       "   yr_built  yr_renovated  zipcode      lat     long  sqft_living15  \\\n",
       "0      1967             0    98034  47.7089 -122.241           2020   \n",
       "1      1967             0    98034  47.7089 -122.241           2020   \n",
       "2      2005             0    98029  47.5472 -121.998           1470   \n",
       "3      1976             0    98077  47.7427 -122.071           1160   \n",
       "4      2005             0    98059  47.4863 -122.140           2830   \n",
       "\n",
       "   sqft_lot15  \n",
       "0       10918  \n",
       "1       10918  \n",
       "2        1576  \n",
       "3       10565  \n",
       "4        7916  "
      ],
      "text/html": "<div>\n<style scoped>\n    .dataframe tbody tr th:only-of-type {\n        vertical-align: middle;\n    }\n\n    .dataframe tbody tr th {\n        vertical-align: top;\n    }\n\n    .dataframe thead th {\n        text-align: right;\n    }\n</style>\n<table border=\"1\" class=\"dataframe\">\n  <thead>\n    <tr style=\"text-align: right;\">\n      <th></th>\n      <th>id</th>\n      <th>date</th>\n      <th>bedrooms</th>\n      <th>bathrooms</th>\n      <th>sqft_living</th>\n      <th>sqft_lot</th>\n      <th>floors</th>\n      <th>waterfront</th>\n      <th>view</th>\n      <th>condition</th>\n      <th>grade</th>\n      <th>sqft_above</th>\n      <th>sqft_basement</th>\n      <th>yr_built</th>\n      <th>yr_renovated</th>\n      <th>zipcode</th>\n      <th>lat</th>\n      <th>long</th>\n      <th>sqft_living15</th>\n      <th>sqft_lot15</th>\n    </tr>\n  </thead>\n  <tbody>\n    <tr>\n      <th>0</th>\n      <td>1974300020</td>\n      <td>20140827T000000</td>\n      <td>4</td>\n      <td>2.50</td>\n      <td>2270</td>\n      <td>11500</td>\n      <td>1.0</td>\n      <td>0</td>\n      <td>0</td>\n      <td>3</td>\n      <td>8</td>\n      <td>1540</td>\n      <td>730</td>\n      <td>1967</td>\n      <td>0</td>\n      <td>98034</td>\n      <td>47.7089</td>\n      <td>-122.241</td>\n      <td>2020</td>\n      <td>10918</td>\n    </tr>\n    <tr>\n      <th>1</th>\n      <td>1974300020</td>\n      <td>20150218T000000</td>\n      <td>4</td>\n      <td>2.50</td>\n      <td>2270</td>\n      <td>11500</td>\n      <td>1.0</td>\n      <td>0</td>\n      <td>0</td>\n      <td>3</td>\n      <td>8</td>\n      <td>1540</td>\n      <td>730</td>\n      <td>1967</td>\n      <td>0</td>\n      <td>98034</td>\n      <td>47.7089</td>\n      <td>-122.241</td>\n      <td>2020</td>\n      <td>10918</td>\n    </tr>\n    <tr>\n      <th>2</th>\n      <td>3630020380</td>\n      <td>20141107T000000</td>\n      <td>3</td>\n      <td>2.50</td>\n      <td>1470</td>\n      <td>1779</td>\n      <td>2.0</td>\n      <td>0</td>\n      <td>0</td>\n      <td>3</td>\n      <td>8</td>\n      <td>1160</td>\n      <td>310</td>\n      <td>2005</td>\n      <td>0</td>\n      <td>98029</td>\n      <td>47.5472</td>\n      <td>-121.998</td>\n      <td>1470</td>\n      <td>1576</td>\n    </tr>\n    <tr>\n      <th>3</th>\n      <td>1771000290</td>\n      <td>20141203T000000</td>\n      <td>3</td>\n      <td>1.75</td>\n      <td>1280</td>\n      <td>16200</td>\n      <td>1.0</td>\n      <td>0</td>\n      <td>0</td>\n      <td>3</td>\n      <td>8</td>\n      <td>1030</td>\n      <td>250</td>\n      <td>1976</td>\n      <td>0</td>\n      <td>98077</td>\n      <td>47.7427</td>\n      <td>-122.071</td>\n      <td>1160</td>\n      <td>10565</td>\n    </tr>\n    <tr>\n      <th>4</th>\n      <td>5126310470</td>\n      <td>20150115T000000</td>\n      <td>4</td>\n      <td>2.75</td>\n      <td>2830</td>\n      <td>8126</td>\n      <td>2.0</td>\n      <td>0</td>\n      <td>0</td>\n      <td>3</td>\n      <td>8</td>\n      <td>2830</td>\n      <td>0</td>\n      <td>2005</td>\n      <td>0</td>\n      <td>98059</td>\n      <td>47.4863</td>\n      <td>-122.140</td>\n      <td>2830</td>\n      <td>7916</td>\n    </tr>\n  </tbody>\n</table>\n</div>"
     },
     "metadata": {},
     "execution_count": 254
    }
   ],
   "source": [
    "holdout = pd.read_csv('kc_house_data_test_features.csv', index_col=0)\n",
    "holdout.head()"
   ]
  },
  {
   "cell_type": "code",
   "execution_count": 255,
   "metadata": {},
   "outputs": [],
   "source": [
    "final_model = pickle.load(open('model.pickle', 'rb'))"
   ]
  },
  {
   "cell_type": "markdown",
   "metadata": {},
   "source": [
    "## Step 2: Feature Engineering for holdout set"
   ]
  },
  {
   "cell_type": "markdown",
   "metadata": {},
   "source": [
    "First, we have to perform all the same transformation on our holdout data that were performed on the original data."
   ]
  },
  {
   "cell_type": "code",
   "execution_count": 256,
   "metadata": {},
   "outputs": [],
   "source": [
    "# there is a house with 33 bedrooms, which was confirmed to be false.\n",
    "# so if any entry has over 20 bedrooms, then replace it with the median.\n",
    "\n",
    "holdout.loc[holdout.bedrooms > 20, 'bedrooms'] = holdout.bedrooms.median()"
   ]
  },
  {
   "cell_type": "code",
   "execution_count": 257,
   "metadata": {},
   "outputs": [],
   "source": [
    "## new feature 1: pulling the 'months_old' from 'date' column\n",
    "\n",
    "# cleaning the dates column, so that it's only the date numbers\n",
    "holdout[\"date\"] = holdout[\"date\"].str.replace('T000000', '')\n",
    "\n",
    "# make new column called month_sold with only the months\n",
    "holdout['month_sold'] = holdout['date'].str[4:6]\n",
    "\n",
    "# removing 0s only if they are at the begnining of single digit months\n",
    "holdout['month_sold'] = holdout['month_sold'].str.replace('01', '1').replace('02', '2').replace('03', '3').replace('04', '4').replace('05', '5').replace('06', '6').replace('07', '7').replace('08', '8').replace('09', '9')\n",
    "\n",
    "# converting new column 'month_sold' to int so we can graph it\n",
    "holdout['month_sold'] = holdout['month_sold'].astype(int)"
   ]
  },
  {
   "cell_type": "code",
   "execution_count": 258,
   "metadata": {},
   "outputs": [],
   "source": [
    "## new feature 2: age of the property\n",
    "\n",
    "# subtracting 'yr_built' with the current year\n",
    "holdout['age'] = 2020 - holdout['yr_built']\n",
    "\n",
    "# after i ran this as a graph, there was a crazy outlier so i'll just replace that with the median\n",
    "holdout.loc[holdout.age < 0] = holdout.age.median()"
   ]
  },
  {
   "cell_type": "code",
   "execution_count": 259,
   "metadata": {},
   "outputs": [],
   "source": [
    "## new feature 3: does the home have a basement?\n",
    "\n",
    "# creating dummy variable column 'basement'\n",
    "holdout['basement'] = holdout['sqft_basement'].apply(lambda x:  1 if x > 0 else 0)"
   ]
  },
  {
   "cell_type": "code",
   "execution_count": 260,
   "metadata": {},
   "outputs": [],
   "source": [
    "## new feature 4: has the house been renovated?\n",
    "\n",
    "# creating dummy variable column 'renovated'\n",
    "holdout['renovated'] = holdout['yr_renovated'].apply(lambda x:  1 if x > 0 else 0)"
   ]
  },
  {
   "cell_type": "code",
   "execution_count": 261,
   "metadata": {},
   "outputs": [],
   "source": [
    "## new Feature 5: Creating an interaction between `full_sqft` and `waterfront`\n",
    "\n",
    "holdout['sqft_waterfront'] = holdout['sqft_lot'] * holdout['waterfront']"
   ]
  },
  {
   "cell_type": "code",
   "execution_count": 262,
   "metadata": {},
   "outputs": [
    {
     "output_type": "execute_result",
     "data": {
      "text/plain": [
       "             id      date  bedrooms  bathrooms  sqft_living  sqft_lot  floors  \\\n",
       "0  1.974300e+09  20140827       4.0       2.50       2270.0   11500.0     1.0   \n",
       "1  1.974300e+09  20150218       4.0       2.50       2270.0   11500.0     1.0   \n",
       "2  3.630020e+09  20141107       3.0       2.50       1470.0    1779.0     2.0   \n",
       "3  1.771000e+09  20141203       3.0       1.75       1280.0   16200.0     1.0   \n",
       "4  5.126310e+09  20150115       4.0       2.75       2830.0    8126.0     2.0   \n",
       "\n",
       "   waterfront  view  condition  grade  sqft_above  sqft_basement  yr_built  \\\n",
       "0         0.0   0.0        3.0    8.0      1540.0          730.0    1967.0   \n",
       "1         0.0   0.0        3.0    8.0      1540.0          730.0    1967.0   \n",
       "2         0.0   0.0        3.0    8.0      1160.0          310.0    2005.0   \n",
       "3         0.0   0.0        3.0    8.0      1030.0          250.0    1976.0   \n",
       "4         0.0   0.0        3.0    8.0      2830.0            0.0    2005.0   \n",
       "\n",
       "   yr_renovated  zipcode      lat     long  sqft_living15  sqft_lot15  \\\n",
       "0           0.0  98034.0  47.7089 -122.241         2020.0     10918.0   \n",
       "1           0.0  98034.0  47.7089 -122.241         2020.0     10918.0   \n",
       "2           0.0  98029.0  47.5472 -121.998         1470.0      1576.0   \n",
       "3           0.0  98077.0  47.7427 -122.071         1160.0     10565.0   \n",
       "4           0.0  98059.0  47.4863 -122.140         2830.0      7916.0   \n",
       "\n",
       "   month_sold   age  basement  renovated  sqft_waterfront  \n",
       "0         8.0  53.0         1          0              0.0  \n",
       "1         2.0  53.0         1          0              0.0  \n",
       "2        11.0  15.0         1          0              0.0  \n",
       "3        12.0  44.0         1          0              0.0  \n",
       "4         1.0  15.0         0          0              0.0  "
      ],
      "text/html": "<div>\n<style scoped>\n    .dataframe tbody tr th:only-of-type {\n        vertical-align: middle;\n    }\n\n    .dataframe tbody tr th {\n        vertical-align: top;\n    }\n\n    .dataframe thead th {\n        text-align: right;\n    }\n</style>\n<table border=\"1\" class=\"dataframe\">\n  <thead>\n    <tr style=\"text-align: right;\">\n      <th></th>\n      <th>id</th>\n      <th>date</th>\n      <th>bedrooms</th>\n      <th>bathrooms</th>\n      <th>sqft_living</th>\n      <th>sqft_lot</th>\n      <th>floors</th>\n      <th>waterfront</th>\n      <th>view</th>\n      <th>condition</th>\n      <th>grade</th>\n      <th>sqft_above</th>\n      <th>sqft_basement</th>\n      <th>yr_built</th>\n      <th>yr_renovated</th>\n      <th>zipcode</th>\n      <th>lat</th>\n      <th>long</th>\n      <th>sqft_living15</th>\n      <th>sqft_lot15</th>\n      <th>month_sold</th>\n      <th>age</th>\n      <th>basement</th>\n      <th>renovated</th>\n      <th>sqft_waterfront</th>\n    </tr>\n  </thead>\n  <tbody>\n    <tr>\n      <th>0</th>\n      <td>1.974300e+09</td>\n      <td>20140827</td>\n      <td>4.0</td>\n      <td>2.50</td>\n      <td>2270.0</td>\n      <td>11500.0</td>\n      <td>1.0</td>\n      <td>0.0</td>\n      <td>0.0</td>\n      <td>3.0</td>\n      <td>8.0</td>\n      <td>1540.0</td>\n      <td>730.0</td>\n      <td>1967.0</td>\n      <td>0.0</td>\n      <td>98034.0</td>\n      <td>47.7089</td>\n      <td>-122.241</td>\n      <td>2020.0</td>\n      <td>10918.0</td>\n      <td>8.0</td>\n      <td>53.0</td>\n      <td>1</td>\n      <td>0</td>\n      <td>0.0</td>\n    </tr>\n    <tr>\n      <th>1</th>\n      <td>1.974300e+09</td>\n      <td>20150218</td>\n      <td>4.0</td>\n      <td>2.50</td>\n      <td>2270.0</td>\n      <td>11500.0</td>\n      <td>1.0</td>\n      <td>0.0</td>\n      <td>0.0</td>\n      <td>3.0</td>\n      <td>8.0</td>\n      <td>1540.0</td>\n      <td>730.0</td>\n      <td>1967.0</td>\n      <td>0.0</td>\n      <td>98034.0</td>\n      <td>47.7089</td>\n      <td>-122.241</td>\n      <td>2020.0</td>\n      <td>10918.0</td>\n      <td>2.0</td>\n      <td>53.0</td>\n      <td>1</td>\n      <td>0</td>\n      <td>0.0</td>\n    </tr>\n    <tr>\n      <th>2</th>\n      <td>3.630020e+09</td>\n      <td>20141107</td>\n      <td>3.0</td>\n      <td>2.50</td>\n      <td>1470.0</td>\n      <td>1779.0</td>\n      <td>2.0</td>\n      <td>0.0</td>\n      <td>0.0</td>\n      <td>3.0</td>\n      <td>8.0</td>\n      <td>1160.0</td>\n      <td>310.0</td>\n      <td>2005.0</td>\n      <td>0.0</td>\n      <td>98029.0</td>\n      <td>47.5472</td>\n      <td>-121.998</td>\n      <td>1470.0</td>\n      <td>1576.0</td>\n      <td>11.0</td>\n      <td>15.0</td>\n      <td>1</td>\n      <td>0</td>\n      <td>0.0</td>\n    </tr>\n    <tr>\n      <th>3</th>\n      <td>1.771000e+09</td>\n      <td>20141203</td>\n      <td>3.0</td>\n      <td>1.75</td>\n      <td>1280.0</td>\n      <td>16200.0</td>\n      <td>1.0</td>\n      <td>0.0</td>\n      <td>0.0</td>\n      <td>3.0</td>\n      <td>8.0</td>\n      <td>1030.0</td>\n      <td>250.0</td>\n      <td>1976.0</td>\n      <td>0.0</td>\n      <td>98077.0</td>\n      <td>47.7427</td>\n      <td>-122.071</td>\n      <td>1160.0</td>\n      <td>10565.0</td>\n      <td>12.0</td>\n      <td>44.0</td>\n      <td>1</td>\n      <td>0</td>\n      <td>0.0</td>\n    </tr>\n    <tr>\n      <th>4</th>\n      <td>5.126310e+09</td>\n      <td>20150115</td>\n      <td>4.0</td>\n      <td>2.75</td>\n      <td>2830.0</td>\n      <td>8126.0</td>\n      <td>2.0</td>\n      <td>0.0</td>\n      <td>0.0</td>\n      <td>3.0</td>\n      <td>8.0</td>\n      <td>2830.0</td>\n      <td>0.0</td>\n      <td>2005.0</td>\n      <td>0.0</td>\n      <td>98059.0</td>\n      <td>47.4863</td>\n      <td>-122.140</td>\n      <td>2830.0</td>\n      <td>7916.0</td>\n      <td>1.0</td>\n      <td>15.0</td>\n      <td>0</td>\n      <td>0</td>\n      <td>0.0</td>\n    </tr>\n  </tbody>\n</table>\n</div>"
     },
     "metadata": {},
     "execution_count": 262
    }
   ],
   "source": [
    "# checking that everything worked successfully\n",
    "holdout.head()"
   ]
  },
  {
   "cell_type": "code",
   "execution_count": 263,
   "metadata": {},
   "outputs": [],
   "source": [
    "# dropping any columns that are not features that I want to use in the final model\n",
    "holdout = holdout.drop(columns=['id','date','sqft_lot','sqft_above', 'sqft_basement', 'yr_built','yr_renovated', 'zipcode', 'lat','long', 'sqft_living15', 'sqft_lot15'])"
   ]
  },
  {
   "cell_type": "code",
   "execution_count": 264,
   "metadata": {},
   "outputs": [
    {
     "output_type": "execute_result",
     "data": {
      "text/plain": [
       "   bedrooms  bathrooms  sqft_living  floors  waterfront  view  condition  \\\n",
       "0       4.0       2.50       2270.0     1.0         0.0   0.0        3.0   \n",
       "1       4.0       2.50       2270.0     1.0         0.0   0.0        3.0   \n",
       "2       3.0       2.50       1470.0     2.0         0.0   0.0        3.0   \n",
       "3       3.0       1.75       1280.0     1.0         0.0   0.0        3.0   \n",
       "4       4.0       2.75       2830.0     2.0         0.0   0.0        3.0   \n",
       "\n",
       "   grade  month_sold   age  basement  renovated  sqft_waterfront  \n",
       "0    8.0         8.0  53.0         1          0              0.0  \n",
       "1    8.0         2.0  53.0         1          0              0.0  \n",
       "2    8.0        11.0  15.0         1          0              0.0  \n",
       "3    8.0        12.0  44.0         1          0              0.0  \n",
       "4    8.0         1.0  15.0         0          0              0.0  "
      ],
      "text/html": "<div>\n<style scoped>\n    .dataframe tbody tr th:only-of-type {\n        vertical-align: middle;\n    }\n\n    .dataframe tbody tr th {\n        vertical-align: top;\n    }\n\n    .dataframe thead th {\n        text-align: right;\n    }\n</style>\n<table border=\"1\" class=\"dataframe\">\n  <thead>\n    <tr style=\"text-align: right;\">\n      <th></th>\n      <th>bedrooms</th>\n      <th>bathrooms</th>\n      <th>sqft_living</th>\n      <th>floors</th>\n      <th>waterfront</th>\n      <th>view</th>\n      <th>condition</th>\n      <th>grade</th>\n      <th>month_sold</th>\n      <th>age</th>\n      <th>basement</th>\n      <th>renovated</th>\n      <th>sqft_waterfront</th>\n    </tr>\n  </thead>\n  <tbody>\n    <tr>\n      <th>0</th>\n      <td>4.0</td>\n      <td>2.50</td>\n      <td>2270.0</td>\n      <td>1.0</td>\n      <td>0.0</td>\n      <td>0.0</td>\n      <td>3.0</td>\n      <td>8.0</td>\n      <td>8.0</td>\n      <td>53.0</td>\n      <td>1</td>\n      <td>0</td>\n      <td>0.0</td>\n    </tr>\n    <tr>\n      <th>1</th>\n      <td>4.0</td>\n      <td>2.50</td>\n      <td>2270.0</td>\n      <td>1.0</td>\n      <td>0.0</td>\n      <td>0.0</td>\n      <td>3.0</td>\n      <td>8.0</td>\n      <td>2.0</td>\n      <td>53.0</td>\n      <td>1</td>\n      <td>0</td>\n      <td>0.0</td>\n    </tr>\n    <tr>\n      <th>2</th>\n      <td>3.0</td>\n      <td>2.50</td>\n      <td>1470.0</td>\n      <td>2.0</td>\n      <td>0.0</td>\n      <td>0.0</td>\n      <td>3.0</td>\n      <td>8.0</td>\n      <td>11.0</td>\n      <td>15.0</td>\n      <td>1</td>\n      <td>0</td>\n      <td>0.0</td>\n    </tr>\n    <tr>\n      <th>3</th>\n      <td>3.0</td>\n      <td>1.75</td>\n      <td>1280.0</td>\n      <td>1.0</td>\n      <td>0.0</td>\n      <td>0.0</td>\n      <td>3.0</td>\n      <td>8.0</td>\n      <td>12.0</td>\n      <td>44.0</td>\n      <td>1</td>\n      <td>0</td>\n      <td>0.0</td>\n    </tr>\n    <tr>\n      <th>4</th>\n      <td>4.0</td>\n      <td>2.75</td>\n      <td>2830.0</td>\n      <td>2.0</td>\n      <td>0.0</td>\n      <td>0.0</td>\n      <td>3.0</td>\n      <td>8.0</td>\n      <td>1.0</td>\n      <td>15.0</td>\n      <td>0</td>\n      <td>0</td>\n      <td>0.0</td>\n    </tr>\n  </tbody>\n</table>\n</div>"
     },
     "metadata": {},
     "execution_count": 264
    }
   ],
   "source": [
    "# checking that they dropped\n",
    "holdout.head()"
   ]
  },
  {
   "cell_type": "markdown",
   "metadata": {},
   "source": [
    "## Step 3: Predict the holdout set"
   ]
  },
  {
   "cell_type": "code",
   "execution_count": 266,
   "metadata": {},
   "outputs": [],
   "source": [
    "# predicting on the cleaned up holdout dataframe\n",
    "final_answer = final_model.predict(holdout)"
   ]
  },
  {
   "cell_type": "markdown",
   "metadata": {},
   "source": [
    "## Step 4: Export predictions"
   ]
  },
  {
   "cell_type": "code",
   "execution_count": 267,
   "metadata": {},
   "outputs": [],
   "source": [
    "# final_answer.to_csv('housing_preds_sidney_kung.csv')\n",
    "\n",
    "final_answer = pd.DataFrame(final_answer, columns=['predictions'])"
   ]
  },
  {
   "cell_type": "code",
   "execution_count": 268,
   "metadata": {},
   "outputs": [
    {
     "output_type": "execute_result",
     "data": {
      "text/plain": [
       "    predictions\n",
       "0  1.043629e+06\n",
       "1  1.021922e+06\n",
       "2  5.480304e+05\n",
       "3  7.895153e+05\n",
       "4  7.189543e+05"
      ],
      "text/html": "<div>\n<style scoped>\n    .dataframe tbody tr th:only-of-type {\n        vertical-align: middle;\n    }\n\n    .dataframe tbody tr th {\n        vertical-align: top;\n    }\n\n    .dataframe thead th {\n        text-align: right;\n    }\n</style>\n<table border=\"1\" class=\"dataframe\">\n  <thead>\n    <tr style=\"text-align: right;\">\n      <th></th>\n      <th>predictions</th>\n    </tr>\n  </thead>\n  <tbody>\n    <tr>\n      <th>0</th>\n      <td>1.043629e+06</td>\n    </tr>\n    <tr>\n      <th>1</th>\n      <td>1.021922e+06</td>\n    </tr>\n    <tr>\n      <th>2</th>\n      <td>5.480304e+05</td>\n    </tr>\n    <tr>\n      <th>3</th>\n      <td>7.895153e+05</td>\n    </tr>\n    <tr>\n      <th>4</th>\n      <td>7.189543e+05</td>\n    </tr>\n  </tbody>\n</table>\n</div>"
     },
     "metadata": {},
     "execution_count": 268
    }
   ],
   "source": [
    "final_answer.head()"
   ]
  },
  {
   "cell_type": "code",
   "execution_count": 269,
   "metadata": {},
   "outputs": [],
   "source": [
    "final_answer.to_csv('housing_preds_sidney_kung.csv')"
   ]
  }
 ],
 "metadata": {
  "kernelspec": {
   "display_name": "Python 3",
   "language": "python",
   "name": "python3"
  },
  "language_info": {
   "codemirror_mode": {
    "name": "ipython",
    "version": 3
   },
   "file_extension": ".py",
   "mimetype": "text/x-python",
   "name": "python",
   "nbconvert_exporter": "python",
   "pygments_lexer": "ipython3",
   "version": "3.6.9-final"
  }
 },
 "nbformat": 4,
 "nbformat_minor": 2
}